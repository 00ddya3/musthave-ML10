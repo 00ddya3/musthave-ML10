{
  "cells": [
    {
      "cell_type": "markdown",
      "metadata": {
        "id": "MiK5io9nEG1_"
      },
      "source": [
        "## 10.2 라이브러리 및 데이터 불러오기, 데이터 확인하기"
      ]
    },
    {
      "cell_type": "code",
      "execution_count": null,
      "metadata": {
        "id": "DD1Ge5AJEPtj"
      },
      "outputs": [],
      "source": [
        "import pandas as pd\n",
        "import numpy as np\n",
        "import matplotlib.pyplot as plt\n",
        "import seaborn as sns\n",
        "\n",
        "file_url = 'https://media.githubusercontent.com/media/musthave-ML10/data_source/main/dating.csv'\n",
        "data = pd.read_csv(file_url)"
      ]
    },
    {
      "cell_type": "code",
      "execution_count": null,
      "metadata": {
        "colab": {
          "base_uri": "https://localhost:8080/",
          "height": 386
        },
        "id": "kz1SRRu0EaA1",
        "outputId": "c74c3c49-1a26-408d-cba6-124fccec99ad"
      },
      "outputs": [
        {
          "output_type": "execute_result",
          "data": {
            "text/plain": [
              "   has_null  gender   age  age_o                                  race  \\\n",
              "0         0  female  21.0   27.0  Asian/PacificIslander/Asian-American   \n",
              "1         0  female  21.0   22.0  Asian/PacificIslander/Asian-American   \n",
              "2         1  female  21.0   22.0  Asian/PacificIslander/Asian-American   \n",
              "3         0  female  21.0   23.0  Asian/PacificIslander/Asian-American   \n",
              "4         0  female  21.0   24.0  Asian/PacificIslander/Asian-American   \n",
              "\n",
              "                                 race_o  importance_same_race  \\\n",
              "0           European/Caucasian-American                   2.0   \n",
              "1           European/Caucasian-American                   2.0   \n",
              "2  Asian/PacificIslander/Asian-American                   2.0   \n",
              "3           European/Caucasian-American                   2.0   \n",
              "4               Latino/HispanicAmerican                   2.0   \n",
              "\n",
              "   importance_same_religion  pref_o_attractive  pref_o_sincere  ...  \\\n",
              "0                       4.0               35.0            20.0  ...   \n",
              "1                       4.0               60.0             0.0  ...   \n",
              "2                       4.0               19.0            18.0  ...   \n",
              "3                       4.0               30.0             5.0  ...   \n",
              "4                       4.0               30.0            10.0  ...   \n",
              "\n",
              "   funny_partner  ambition_partner  shared_interests_partner  \\\n",
              "0            7.0               6.0                       5.0   \n",
              "1            8.0               5.0                       6.0   \n",
              "2            8.0               5.0                       7.0   \n",
              "3            7.0               6.0                       8.0   \n",
              "4            7.0               6.0                       6.0   \n",
              "\n",
              "   interests_correlate  expected_happy_with_sd_people  \\\n",
              "0                 0.14                            3.0   \n",
              "1                 0.54                            3.0   \n",
              "2                 0.16                            3.0   \n",
              "3                 0.61                            3.0   \n",
              "4                 0.21                            3.0   \n",
              "\n",
              "   expected_num_interested_in_me  like  guess_prob_liked  met  match  \n",
              "0                            2.0   7.0               6.0  0.0      0  \n",
              "1                            2.0   7.0               5.0  1.0      0  \n",
              "2                            2.0   7.0               NaN  1.0      1  \n",
              "3                            2.0   7.0               6.0  0.0      1  \n",
              "4                            2.0   6.0               6.0  0.0      1  \n",
              "\n",
              "[5 rows x 39 columns]"
            ],
            "text/html": [
              "\n",
              "  <div id=\"df-664b0e9c-d192-4a07-8d83-a88e6108c202\">\n",
              "    <div class=\"colab-df-container\">\n",
              "      <div>\n",
              "<style scoped>\n",
              "    .dataframe tbody tr th:only-of-type {\n",
              "        vertical-align: middle;\n",
              "    }\n",
              "\n",
              "    .dataframe tbody tr th {\n",
              "        vertical-align: top;\n",
              "    }\n",
              "\n",
              "    .dataframe thead th {\n",
              "        text-align: right;\n",
              "    }\n",
              "</style>\n",
              "<table border=\"1\" class=\"dataframe\">\n",
              "  <thead>\n",
              "    <tr style=\"text-align: right;\">\n",
              "      <th></th>\n",
              "      <th>has_null</th>\n",
              "      <th>gender</th>\n",
              "      <th>age</th>\n",
              "      <th>age_o</th>\n",
              "      <th>race</th>\n",
              "      <th>race_o</th>\n",
              "      <th>importance_same_race</th>\n",
              "      <th>importance_same_religion</th>\n",
              "      <th>pref_o_attractive</th>\n",
              "      <th>pref_o_sincere</th>\n",
              "      <th>...</th>\n",
              "      <th>funny_partner</th>\n",
              "      <th>ambition_partner</th>\n",
              "      <th>shared_interests_partner</th>\n",
              "      <th>interests_correlate</th>\n",
              "      <th>expected_happy_with_sd_people</th>\n",
              "      <th>expected_num_interested_in_me</th>\n",
              "      <th>like</th>\n",
              "      <th>guess_prob_liked</th>\n",
              "      <th>met</th>\n",
              "      <th>match</th>\n",
              "    </tr>\n",
              "  </thead>\n",
              "  <tbody>\n",
              "    <tr>\n",
              "      <th>0</th>\n",
              "      <td>0</td>\n",
              "      <td>female</td>\n",
              "      <td>21.0</td>\n",
              "      <td>27.0</td>\n",
              "      <td>Asian/PacificIslander/Asian-American</td>\n",
              "      <td>European/Caucasian-American</td>\n",
              "      <td>2.0</td>\n",
              "      <td>4.0</td>\n",
              "      <td>35.0</td>\n",
              "      <td>20.0</td>\n",
              "      <td>...</td>\n",
              "      <td>7.0</td>\n",
              "      <td>6.0</td>\n",
              "      <td>5.0</td>\n",
              "      <td>0.14</td>\n",
              "      <td>3.0</td>\n",
              "      <td>2.0</td>\n",
              "      <td>7.0</td>\n",
              "      <td>6.0</td>\n",
              "      <td>0.0</td>\n",
              "      <td>0</td>\n",
              "    </tr>\n",
              "    <tr>\n",
              "      <th>1</th>\n",
              "      <td>0</td>\n",
              "      <td>female</td>\n",
              "      <td>21.0</td>\n",
              "      <td>22.0</td>\n",
              "      <td>Asian/PacificIslander/Asian-American</td>\n",
              "      <td>European/Caucasian-American</td>\n",
              "      <td>2.0</td>\n",
              "      <td>4.0</td>\n",
              "      <td>60.0</td>\n",
              "      <td>0.0</td>\n",
              "      <td>...</td>\n",
              "      <td>8.0</td>\n",
              "      <td>5.0</td>\n",
              "      <td>6.0</td>\n",
              "      <td>0.54</td>\n",
              "      <td>3.0</td>\n",
              "      <td>2.0</td>\n",
              "      <td>7.0</td>\n",
              "      <td>5.0</td>\n",
              "      <td>1.0</td>\n",
              "      <td>0</td>\n",
              "    </tr>\n",
              "    <tr>\n",
              "      <th>2</th>\n",
              "      <td>1</td>\n",
              "      <td>female</td>\n",
              "      <td>21.0</td>\n",
              "      <td>22.0</td>\n",
              "      <td>Asian/PacificIslander/Asian-American</td>\n",
              "      <td>Asian/PacificIslander/Asian-American</td>\n",
              "      <td>2.0</td>\n",
              "      <td>4.0</td>\n",
              "      <td>19.0</td>\n",
              "      <td>18.0</td>\n",
              "      <td>...</td>\n",
              "      <td>8.0</td>\n",
              "      <td>5.0</td>\n",
              "      <td>7.0</td>\n",
              "      <td>0.16</td>\n",
              "      <td>3.0</td>\n",
              "      <td>2.0</td>\n",
              "      <td>7.0</td>\n",
              "      <td>NaN</td>\n",
              "      <td>1.0</td>\n",
              "      <td>1</td>\n",
              "    </tr>\n",
              "    <tr>\n",
              "      <th>3</th>\n",
              "      <td>0</td>\n",
              "      <td>female</td>\n",
              "      <td>21.0</td>\n",
              "      <td>23.0</td>\n",
              "      <td>Asian/PacificIslander/Asian-American</td>\n",
              "      <td>European/Caucasian-American</td>\n",
              "      <td>2.0</td>\n",
              "      <td>4.0</td>\n",
              "      <td>30.0</td>\n",
              "      <td>5.0</td>\n",
              "      <td>...</td>\n",
              "      <td>7.0</td>\n",
              "      <td>6.0</td>\n",
              "      <td>8.0</td>\n",
              "      <td>0.61</td>\n",
              "      <td>3.0</td>\n",
              "      <td>2.0</td>\n",
              "      <td>7.0</td>\n",
              "      <td>6.0</td>\n",
              "      <td>0.0</td>\n",
              "      <td>1</td>\n",
              "    </tr>\n",
              "    <tr>\n",
              "      <th>4</th>\n",
              "      <td>0</td>\n",
              "      <td>female</td>\n",
              "      <td>21.0</td>\n",
              "      <td>24.0</td>\n",
              "      <td>Asian/PacificIslander/Asian-American</td>\n",
              "      <td>Latino/HispanicAmerican</td>\n",
              "      <td>2.0</td>\n",
              "      <td>4.0</td>\n",
              "      <td>30.0</td>\n",
              "      <td>10.0</td>\n",
              "      <td>...</td>\n",
              "      <td>7.0</td>\n",
              "      <td>6.0</td>\n",
              "      <td>6.0</td>\n",
              "      <td>0.21</td>\n",
              "      <td>3.0</td>\n",
              "      <td>2.0</td>\n",
              "      <td>6.0</td>\n",
              "      <td>6.0</td>\n",
              "      <td>0.0</td>\n",
              "      <td>1</td>\n",
              "    </tr>\n",
              "  </tbody>\n",
              "</table>\n",
              "<p>5 rows × 39 columns</p>\n",
              "</div>\n",
              "      <button class=\"colab-df-convert\" onclick=\"convertToInteractive('df-664b0e9c-d192-4a07-8d83-a88e6108c202')\"\n",
              "              title=\"Convert this dataframe to an interactive table.\"\n",
              "              style=\"display:none;\">\n",
              "        \n",
              "  <svg xmlns=\"http://www.w3.org/2000/svg\" height=\"24px\"viewBox=\"0 0 24 24\"\n",
              "       width=\"24px\">\n",
              "    <path d=\"M0 0h24v24H0V0z\" fill=\"none\"/>\n",
              "    <path d=\"M18.56 5.44l.94 2.06.94-2.06 2.06-.94-2.06-.94-.94-2.06-.94 2.06-2.06.94zm-11 1L8.5 8.5l.94-2.06 2.06-.94-2.06-.94L8.5 2.5l-.94 2.06-2.06.94zm10 10l.94 2.06.94-2.06 2.06-.94-2.06-.94-.94-2.06-.94 2.06-2.06.94z\"/><path d=\"M17.41 7.96l-1.37-1.37c-.4-.4-.92-.59-1.43-.59-.52 0-1.04.2-1.43.59L10.3 9.45l-7.72 7.72c-.78.78-.78 2.05 0 2.83L4 21.41c.39.39.9.59 1.41.59.51 0 1.02-.2 1.41-.59l7.78-7.78 2.81-2.81c.8-.78.8-2.07 0-2.86zM5.41 20L4 18.59l7.72-7.72 1.47 1.35L5.41 20z\"/>\n",
              "  </svg>\n",
              "      </button>\n",
              "      \n",
              "  <style>\n",
              "    .colab-df-container {\n",
              "      display:flex;\n",
              "      flex-wrap:wrap;\n",
              "      gap: 12px;\n",
              "    }\n",
              "\n",
              "    .colab-df-convert {\n",
              "      background-color: #E8F0FE;\n",
              "      border: none;\n",
              "      border-radius: 50%;\n",
              "      cursor: pointer;\n",
              "      display: none;\n",
              "      fill: #1967D2;\n",
              "      height: 32px;\n",
              "      padding: 0 0 0 0;\n",
              "      width: 32px;\n",
              "    }\n",
              "\n",
              "    .colab-df-convert:hover {\n",
              "      background-color: #E2EBFA;\n",
              "      box-shadow: 0px 1px 2px rgba(60, 64, 67, 0.3), 0px 1px 3px 1px rgba(60, 64, 67, 0.15);\n",
              "      fill: #174EA6;\n",
              "    }\n",
              "\n",
              "    [theme=dark] .colab-df-convert {\n",
              "      background-color: #3B4455;\n",
              "      fill: #D2E3FC;\n",
              "    }\n",
              "\n",
              "    [theme=dark] .colab-df-convert:hover {\n",
              "      background-color: #434B5C;\n",
              "      box-shadow: 0px 1px 3px 1px rgba(0, 0, 0, 0.15);\n",
              "      filter: drop-shadow(0px 1px 2px rgba(0, 0, 0, 0.3));\n",
              "      fill: #FFFFFF;\n",
              "    }\n",
              "  </style>\n",
              "\n",
              "      <script>\n",
              "        const buttonEl =\n",
              "          document.querySelector('#df-664b0e9c-d192-4a07-8d83-a88e6108c202 button.colab-df-convert');\n",
              "        buttonEl.style.display =\n",
              "          google.colab.kernel.accessAllowed ? 'block' : 'none';\n",
              "\n",
              "        async function convertToInteractive(key) {\n",
              "          const element = document.querySelector('#df-664b0e9c-d192-4a07-8d83-a88e6108c202');\n",
              "          const dataTable =\n",
              "            await google.colab.kernel.invokeFunction('convertToInteractive',\n",
              "                                                     [key], {});\n",
              "          if (!dataTable) return;\n",
              "\n",
              "          const docLinkHtml = 'Like what you see? Visit the ' +\n",
              "            '<a target=\"_blank\" href=https://colab.research.google.com/notebooks/data_table.ipynb>data table notebook</a>'\n",
              "            + ' to learn more about interactive tables.';\n",
              "          element.innerHTML = '';\n",
              "          dataTable['output_type'] = 'display_data';\n",
              "          await google.colab.output.renderOutput(dataTable, element);\n",
              "          const docLink = document.createElement('div');\n",
              "          docLink.innerHTML = docLinkHtml;\n",
              "          element.appendChild(docLink);\n",
              "        }\n",
              "      </script>\n",
              "    </div>\n",
              "  </div>\n",
              "  "
            ]
          },
          "metadata": {},
          "execution_count": 2
        }
      ],
      "source": [
        "data.head()"
      ]
    },
    {
      "cell_type": "code",
      "execution_count": null,
      "metadata": {
        "id": "yCeFmtYxEcKF"
      },
      "outputs": [],
      "source": [
        "pd.options.display.max_columns = 40"
      ]
    },
    {
      "cell_type": "code",
      "execution_count": null,
      "metadata": {
        "colab": {
          "base_uri": "https://localhost:8080/"
        },
        "id": "o0Lv07naEdeN",
        "outputId": "4bcac914-9185-40a3-e534-15475c824619"
      },
      "outputs": [
        {
          "output_type": "stream",
          "name": "stdout",
          "text": [
            "<class 'pandas.core.frame.DataFrame'>\n",
            "RangeIndex: 8378 entries, 0 to 8377\n",
            "Data columns (total 39 columns):\n",
            " #   Column                         Non-Null Count  Dtype  \n",
            "---  ------                         --------------  -----  \n",
            " 0   has_null                       8378 non-null   int64  \n",
            " 1   gender                         8378 non-null   object \n",
            " 2   age                            8283 non-null   float64\n",
            " 3   age_o                          8274 non-null   float64\n",
            " 4   race                           8315 non-null   object \n",
            " 5   race_o                         8305 non-null   object \n",
            " 6   importance_same_race           8299 non-null   float64\n",
            " 7   importance_same_religion       8299 non-null   float64\n",
            " 8   pref_o_attractive              8289 non-null   float64\n",
            " 9   pref_o_sincere                 8289 non-null   float64\n",
            " 10  pref_o_intelligence            8289 non-null   float64\n",
            " 11  pref_o_funny                   8280 non-null   float64\n",
            " 12  pref_o_ambitious               8271 non-null   float64\n",
            " 13  pref_o_shared_interests        8249 non-null   float64\n",
            " 14  attractive_o                   8166 non-null   float64\n",
            " 15  sincere_o                      8091 non-null   float64\n",
            " 16  intelligence_o                 8072 non-null   float64\n",
            " 17  funny_o                        8018 non-null   float64\n",
            " 18  ambitous_o                     7656 non-null   float64\n",
            " 19  shared_interests_o             7302 non-null   float64\n",
            " 20  attractive_important           8299 non-null   float64\n",
            " 21  sincere_important              8299 non-null   float64\n",
            " 22  intellicence_important         8299 non-null   float64\n",
            " 23  funny_important                8289 non-null   float64\n",
            " 24  ambtition_important            8279 non-null   float64\n",
            " 25  shared_interests_important     8257 non-null   float64\n",
            " 26  attractive_partner             8176 non-null   float64\n",
            " 27  sincere_partner                8101 non-null   float64\n",
            " 28  intelligence_partner           8082 non-null   float64\n",
            " 29  funny_partner                  8028 non-null   float64\n",
            " 30  ambition_partner               7666 non-null   float64\n",
            " 31  shared_interests_partner       7311 non-null   float64\n",
            " 32  interests_correlate            8220 non-null   float64\n",
            " 33  expected_happy_with_sd_people  8277 non-null   float64\n",
            " 34  expected_num_interested_in_me  1800 non-null   float64\n",
            " 35  like                           8138 non-null   float64\n",
            " 36  guess_prob_liked               8069 non-null   float64\n",
            " 37  met                            8003 non-null   float64\n",
            " 38  match                          8378 non-null   int64  \n",
            "dtypes: float64(34), int64(2), object(3)\n",
            "memory usage: 2.5+ MB\n"
          ]
        }
      ],
      "source": [
        "data.info()"
      ]
    },
    {
      "cell_type": "code",
      "execution_count": null,
      "metadata": {
        "colab": {
          "base_uri": "https://localhost:8080/",
          "height": 364
        },
        "id": "M9QOpdtMEerl",
        "outputId": "8c7285f4-178d-4eed-e6e0-4790497f8e83"
      },
      "outputs": [
        {
          "output_type": "execute_result",
          "data": {
            "text/plain": [
              "       has_null      age    age_o  importance_same_race  \\\n",
              "count   8378.00  8283.00  8274.00               8299.00   \n",
              "mean       0.87    26.36    26.36                  3.78   \n",
              "std        0.33     3.57     3.56                  2.85   \n",
              "min        0.00    18.00    18.00                  0.00   \n",
              "25%        1.00    24.00    24.00                  1.00   \n",
              "50%        1.00    26.00    26.00                  3.00   \n",
              "75%        1.00    28.00    28.00                  6.00   \n",
              "max        1.00    55.00    55.00                 10.00   \n",
              "\n",
              "       importance_same_religion  pref_o_attractive  pref_o_sincere  \\\n",
              "count                   8299.00            8289.00         8289.00   \n",
              "mean                       3.65              22.50           17.40   \n",
              "std                        2.81              12.57            7.04   \n",
              "min                        1.00               0.00            0.00   \n",
              "25%                        1.00              15.00           15.00   \n",
              "50%                        3.00              20.00           18.37   \n",
              "75%                        6.00              25.00           20.00   \n",
              "max                       10.00             100.00           60.00   \n",
              "\n",
              "       pref_o_intelligence  pref_o_funny  pref_o_ambitious  \\\n",
              "count              8289.00       8280.00           8271.00   \n",
              "mean                 20.27         17.46             10.69   \n",
              "std                   6.78          6.09              6.13   \n",
              "min                   0.00          0.00              0.00   \n",
              "25%                  17.39         15.00              5.00   \n",
              "50%                  20.00         18.00             10.00   \n",
              "75%                  23.81         20.00             15.00   \n",
              "max                  50.00         50.00             53.00   \n",
              "\n",
              "       pref_o_shared_interests  attractive_o  sincere_o  intelligence_o  \\\n",
              "count                  8249.00       8166.00    8091.00         8072.00   \n",
              "mean                     11.85          6.19       7.18            7.37   \n",
              "std                       6.36          1.95       1.74            1.55   \n",
              "min                       0.00          0.00       0.00            0.00   \n",
              "25%                       9.52          5.00       6.00            6.00   \n",
              "50%                      10.64          6.00       7.00            7.00   \n",
              "75%                      16.00          8.00       8.00            8.00   \n",
              "max                      30.00         10.50      10.00           10.00   \n",
              "\n",
              "       funny_o  ambitous_o  shared_interests_o  attractive_important  \\\n",
              "count  8018.00     7656.00             7302.00               8299.00   \n",
              "mean      6.40        6.78                5.47                 22.51   \n",
              "std       1.95        1.79                2.16                 12.59   \n",
              "min       0.00        0.00                0.00                  0.00   \n",
              "25%       5.00        6.00                4.00                 15.00   \n",
              "50%       7.00        7.00                6.00                 20.00   \n",
              "75%       8.00        8.00                7.00                 25.00   \n",
              "max      11.00       10.00               10.00                100.00   \n",
              "\n",
              "       sincere_important  intellicence_important  funny_important  \\\n",
              "count            8299.00                 8299.00          8289.00   \n",
              "mean               17.40                   20.27            17.46   \n",
              "std                 7.05                    6.78             6.09   \n",
              "min                 0.00                    0.00             0.00   \n",
              "25%                15.00                   17.39            15.00   \n",
              "50%                18.18                   20.00            18.00   \n",
              "75%                20.00                   23.81            20.00   \n",
              "max                60.00                   50.00            50.00   \n",
              "\n",
              "       ambtition_important  shared_interests_important  attractive_partner  \\\n",
              "count              8279.00                     8257.00             8176.00   \n",
              "mean                 10.68                       11.85                6.19   \n",
              "std                   6.12                        6.36                1.95   \n",
              "min                   0.00                        0.00                0.00   \n",
              "25%                   5.00                        9.52                5.00   \n",
              "50%                  10.00                       10.64                6.00   \n",
              "75%                  15.00                       16.00                8.00   \n",
              "max                  53.00                       30.00               10.00   \n",
              "\n",
              "       sincere_partner  intelligence_partner  funny_partner  ambition_partner  \\\n",
              "count          8101.00               8082.00        8028.00           7666.00   \n",
              "mean              7.18                  7.37           6.40              6.78   \n",
              "std               1.74                  1.55           1.95              1.79   \n",
              "min               0.00                  0.00           0.00              0.00   \n",
              "25%               6.00                  6.00           5.00              6.00   \n",
              "50%               7.00                  7.00           7.00              7.00   \n",
              "75%               8.00                  8.00           8.00              8.00   \n",
              "max              10.00                 10.00          10.00             10.00   \n",
              "\n",
              "       shared_interests_partner  interests_correlate  \\\n",
              "count                   7311.00              8220.00   \n",
              "mean                       5.47                 0.20   \n",
              "std                        2.16                 0.30   \n",
              "min                        0.00                -0.83   \n",
              "25%                        4.00                -0.02   \n",
              "50%                        6.00                 0.21   \n",
              "75%                        7.00                 0.43   \n",
              "max                       10.00                 0.91   \n",
              "\n",
              "       expected_happy_with_sd_people  expected_num_interested_in_me     like  \\\n",
              "count                        8277.00                        1800.00  8138.00   \n",
              "mean                            5.53                           5.57     6.13   \n",
              "std                             1.73                           4.76     1.84   \n",
              "min                             1.00                           0.00     0.00   \n",
              "25%                             5.00                           2.00     5.00   \n",
              "50%                             6.00                           4.00     6.00   \n",
              "75%                             7.00                           8.00     7.00   \n",
              "max                            10.00                          20.00    10.00   \n",
              "\n",
              "       guess_prob_liked      met    match  \n",
              "count           8069.00  8003.00  8378.00  \n",
              "mean               5.21     0.05     0.16  \n",
              "std                2.13     0.28     0.37  \n",
              "min                0.00     0.00     0.00  \n",
              "25%                4.00     0.00     0.00  \n",
              "50%                5.00     0.00     0.00  \n",
              "75%                7.00     0.00     0.00  \n",
              "max               10.00     8.00     1.00  "
            ],
            "text/html": [
              "\n",
              "  <div id=\"df-2141dd06-bea8-48ec-9f47-1cf7aaad9f2c\">\n",
              "    <div class=\"colab-df-container\">\n",
              "      <div>\n",
              "<style scoped>\n",
              "    .dataframe tbody tr th:only-of-type {\n",
              "        vertical-align: middle;\n",
              "    }\n",
              "\n",
              "    .dataframe tbody tr th {\n",
              "        vertical-align: top;\n",
              "    }\n",
              "\n",
              "    .dataframe thead th {\n",
              "        text-align: right;\n",
              "    }\n",
              "</style>\n",
              "<table border=\"1\" class=\"dataframe\">\n",
              "  <thead>\n",
              "    <tr style=\"text-align: right;\">\n",
              "      <th></th>\n",
              "      <th>has_null</th>\n",
              "      <th>age</th>\n",
              "      <th>age_o</th>\n",
              "      <th>importance_same_race</th>\n",
              "      <th>importance_same_religion</th>\n",
              "      <th>pref_o_attractive</th>\n",
              "      <th>pref_o_sincere</th>\n",
              "      <th>pref_o_intelligence</th>\n",
              "      <th>pref_o_funny</th>\n",
              "      <th>pref_o_ambitious</th>\n",
              "      <th>pref_o_shared_interests</th>\n",
              "      <th>attractive_o</th>\n",
              "      <th>sincere_o</th>\n",
              "      <th>intelligence_o</th>\n",
              "      <th>funny_o</th>\n",
              "      <th>ambitous_o</th>\n",
              "      <th>shared_interests_o</th>\n",
              "      <th>attractive_important</th>\n",
              "      <th>sincere_important</th>\n",
              "      <th>intellicence_important</th>\n",
              "      <th>funny_important</th>\n",
              "      <th>ambtition_important</th>\n",
              "      <th>shared_interests_important</th>\n",
              "      <th>attractive_partner</th>\n",
              "      <th>sincere_partner</th>\n",
              "      <th>intelligence_partner</th>\n",
              "      <th>funny_partner</th>\n",
              "      <th>ambition_partner</th>\n",
              "      <th>shared_interests_partner</th>\n",
              "      <th>interests_correlate</th>\n",
              "      <th>expected_happy_with_sd_people</th>\n",
              "      <th>expected_num_interested_in_me</th>\n",
              "      <th>like</th>\n",
              "      <th>guess_prob_liked</th>\n",
              "      <th>met</th>\n",
              "      <th>match</th>\n",
              "    </tr>\n",
              "  </thead>\n",
              "  <tbody>\n",
              "    <tr>\n",
              "      <th>count</th>\n",
              "      <td>8378.00</td>\n",
              "      <td>8283.00</td>\n",
              "      <td>8274.00</td>\n",
              "      <td>8299.00</td>\n",
              "      <td>8299.00</td>\n",
              "      <td>8289.00</td>\n",
              "      <td>8289.00</td>\n",
              "      <td>8289.00</td>\n",
              "      <td>8280.00</td>\n",
              "      <td>8271.00</td>\n",
              "      <td>8249.00</td>\n",
              "      <td>8166.00</td>\n",
              "      <td>8091.00</td>\n",
              "      <td>8072.00</td>\n",
              "      <td>8018.00</td>\n",
              "      <td>7656.00</td>\n",
              "      <td>7302.00</td>\n",
              "      <td>8299.00</td>\n",
              "      <td>8299.00</td>\n",
              "      <td>8299.00</td>\n",
              "      <td>8289.00</td>\n",
              "      <td>8279.00</td>\n",
              "      <td>8257.00</td>\n",
              "      <td>8176.00</td>\n",
              "      <td>8101.00</td>\n",
              "      <td>8082.00</td>\n",
              "      <td>8028.00</td>\n",
              "      <td>7666.00</td>\n",
              "      <td>7311.00</td>\n",
              "      <td>8220.00</td>\n",
              "      <td>8277.00</td>\n",
              "      <td>1800.00</td>\n",
              "      <td>8138.00</td>\n",
              "      <td>8069.00</td>\n",
              "      <td>8003.00</td>\n",
              "      <td>8378.00</td>\n",
              "    </tr>\n",
              "    <tr>\n",
              "      <th>mean</th>\n",
              "      <td>0.87</td>\n",
              "      <td>26.36</td>\n",
              "      <td>26.36</td>\n",
              "      <td>3.78</td>\n",
              "      <td>3.65</td>\n",
              "      <td>22.50</td>\n",
              "      <td>17.40</td>\n",
              "      <td>20.27</td>\n",
              "      <td>17.46</td>\n",
              "      <td>10.69</td>\n",
              "      <td>11.85</td>\n",
              "      <td>6.19</td>\n",
              "      <td>7.18</td>\n",
              "      <td>7.37</td>\n",
              "      <td>6.40</td>\n",
              "      <td>6.78</td>\n",
              "      <td>5.47</td>\n",
              "      <td>22.51</td>\n",
              "      <td>17.40</td>\n",
              "      <td>20.27</td>\n",
              "      <td>17.46</td>\n",
              "      <td>10.68</td>\n",
              "      <td>11.85</td>\n",
              "      <td>6.19</td>\n",
              "      <td>7.18</td>\n",
              "      <td>7.37</td>\n",
              "      <td>6.40</td>\n",
              "      <td>6.78</td>\n",
              "      <td>5.47</td>\n",
              "      <td>0.20</td>\n",
              "      <td>5.53</td>\n",
              "      <td>5.57</td>\n",
              "      <td>6.13</td>\n",
              "      <td>5.21</td>\n",
              "      <td>0.05</td>\n",
              "      <td>0.16</td>\n",
              "    </tr>\n",
              "    <tr>\n",
              "      <th>std</th>\n",
              "      <td>0.33</td>\n",
              "      <td>3.57</td>\n",
              "      <td>3.56</td>\n",
              "      <td>2.85</td>\n",
              "      <td>2.81</td>\n",
              "      <td>12.57</td>\n",
              "      <td>7.04</td>\n",
              "      <td>6.78</td>\n",
              "      <td>6.09</td>\n",
              "      <td>6.13</td>\n",
              "      <td>6.36</td>\n",
              "      <td>1.95</td>\n",
              "      <td>1.74</td>\n",
              "      <td>1.55</td>\n",
              "      <td>1.95</td>\n",
              "      <td>1.79</td>\n",
              "      <td>2.16</td>\n",
              "      <td>12.59</td>\n",
              "      <td>7.05</td>\n",
              "      <td>6.78</td>\n",
              "      <td>6.09</td>\n",
              "      <td>6.12</td>\n",
              "      <td>6.36</td>\n",
              "      <td>1.95</td>\n",
              "      <td>1.74</td>\n",
              "      <td>1.55</td>\n",
              "      <td>1.95</td>\n",
              "      <td>1.79</td>\n",
              "      <td>2.16</td>\n",
              "      <td>0.30</td>\n",
              "      <td>1.73</td>\n",
              "      <td>4.76</td>\n",
              "      <td>1.84</td>\n",
              "      <td>2.13</td>\n",
              "      <td>0.28</td>\n",
              "      <td>0.37</td>\n",
              "    </tr>\n",
              "    <tr>\n",
              "      <th>min</th>\n",
              "      <td>0.00</td>\n",
              "      <td>18.00</td>\n",
              "      <td>18.00</td>\n",
              "      <td>0.00</td>\n",
              "      <td>1.00</td>\n",
              "      <td>0.00</td>\n",
              "      <td>0.00</td>\n",
              "      <td>0.00</td>\n",
              "      <td>0.00</td>\n",
              "      <td>0.00</td>\n",
              "      <td>0.00</td>\n",
              "      <td>0.00</td>\n",
              "      <td>0.00</td>\n",
              "      <td>0.00</td>\n",
              "      <td>0.00</td>\n",
              "      <td>0.00</td>\n",
              "      <td>0.00</td>\n",
              "      <td>0.00</td>\n",
              "      <td>0.00</td>\n",
              "      <td>0.00</td>\n",
              "      <td>0.00</td>\n",
              "      <td>0.00</td>\n",
              "      <td>0.00</td>\n",
              "      <td>0.00</td>\n",
              "      <td>0.00</td>\n",
              "      <td>0.00</td>\n",
              "      <td>0.00</td>\n",
              "      <td>0.00</td>\n",
              "      <td>0.00</td>\n",
              "      <td>-0.83</td>\n",
              "      <td>1.00</td>\n",
              "      <td>0.00</td>\n",
              "      <td>0.00</td>\n",
              "      <td>0.00</td>\n",
              "      <td>0.00</td>\n",
              "      <td>0.00</td>\n",
              "    </tr>\n",
              "    <tr>\n",
              "      <th>25%</th>\n",
              "      <td>1.00</td>\n",
              "      <td>24.00</td>\n",
              "      <td>24.00</td>\n",
              "      <td>1.00</td>\n",
              "      <td>1.00</td>\n",
              "      <td>15.00</td>\n",
              "      <td>15.00</td>\n",
              "      <td>17.39</td>\n",
              "      <td>15.00</td>\n",
              "      <td>5.00</td>\n",
              "      <td>9.52</td>\n",
              "      <td>5.00</td>\n",
              "      <td>6.00</td>\n",
              "      <td>6.00</td>\n",
              "      <td>5.00</td>\n",
              "      <td>6.00</td>\n",
              "      <td>4.00</td>\n",
              "      <td>15.00</td>\n",
              "      <td>15.00</td>\n",
              "      <td>17.39</td>\n",
              "      <td>15.00</td>\n",
              "      <td>5.00</td>\n",
              "      <td>9.52</td>\n",
              "      <td>5.00</td>\n",
              "      <td>6.00</td>\n",
              "      <td>6.00</td>\n",
              "      <td>5.00</td>\n",
              "      <td>6.00</td>\n",
              "      <td>4.00</td>\n",
              "      <td>-0.02</td>\n",
              "      <td>5.00</td>\n",
              "      <td>2.00</td>\n",
              "      <td>5.00</td>\n",
              "      <td>4.00</td>\n",
              "      <td>0.00</td>\n",
              "      <td>0.00</td>\n",
              "    </tr>\n",
              "    <tr>\n",
              "      <th>50%</th>\n",
              "      <td>1.00</td>\n",
              "      <td>26.00</td>\n",
              "      <td>26.00</td>\n",
              "      <td>3.00</td>\n",
              "      <td>3.00</td>\n",
              "      <td>20.00</td>\n",
              "      <td>18.37</td>\n",
              "      <td>20.00</td>\n",
              "      <td>18.00</td>\n",
              "      <td>10.00</td>\n",
              "      <td>10.64</td>\n",
              "      <td>6.00</td>\n",
              "      <td>7.00</td>\n",
              "      <td>7.00</td>\n",
              "      <td>7.00</td>\n",
              "      <td>7.00</td>\n",
              "      <td>6.00</td>\n",
              "      <td>20.00</td>\n",
              "      <td>18.18</td>\n",
              "      <td>20.00</td>\n",
              "      <td>18.00</td>\n",
              "      <td>10.00</td>\n",
              "      <td>10.64</td>\n",
              "      <td>6.00</td>\n",
              "      <td>7.00</td>\n",
              "      <td>7.00</td>\n",
              "      <td>7.00</td>\n",
              "      <td>7.00</td>\n",
              "      <td>6.00</td>\n",
              "      <td>0.21</td>\n",
              "      <td>6.00</td>\n",
              "      <td>4.00</td>\n",
              "      <td>6.00</td>\n",
              "      <td>5.00</td>\n",
              "      <td>0.00</td>\n",
              "      <td>0.00</td>\n",
              "    </tr>\n",
              "    <tr>\n",
              "      <th>75%</th>\n",
              "      <td>1.00</td>\n",
              "      <td>28.00</td>\n",
              "      <td>28.00</td>\n",
              "      <td>6.00</td>\n",
              "      <td>6.00</td>\n",
              "      <td>25.00</td>\n",
              "      <td>20.00</td>\n",
              "      <td>23.81</td>\n",
              "      <td>20.00</td>\n",
              "      <td>15.00</td>\n",
              "      <td>16.00</td>\n",
              "      <td>8.00</td>\n",
              "      <td>8.00</td>\n",
              "      <td>8.00</td>\n",
              "      <td>8.00</td>\n",
              "      <td>8.00</td>\n",
              "      <td>7.00</td>\n",
              "      <td>25.00</td>\n",
              "      <td>20.00</td>\n",
              "      <td>23.81</td>\n",
              "      <td>20.00</td>\n",
              "      <td>15.00</td>\n",
              "      <td>16.00</td>\n",
              "      <td>8.00</td>\n",
              "      <td>8.00</td>\n",
              "      <td>8.00</td>\n",
              "      <td>8.00</td>\n",
              "      <td>8.00</td>\n",
              "      <td>7.00</td>\n",
              "      <td>0.43</td>\n",
              "      <td>7.00</td>\n",
              "      <td>8.00</td>\n",
              "      <td>7.00</td>\n",
              "      <td>7.00</td>\n",
              "      <td>0.00</td>\n",
              "      <td>0.00</td>\n",
              "    </tr>\n",
              "    <tr>\n",
              "      <th>max</th>\n",
              "      <td>1.00</td>\n",
              "      <td>55.00</td>\n",
              "      <td>55.00</td>\n",
              "      <td>10.00</td>\n",
              "      <td>10.00</td>\n",
              "      <td>100.00</td>\n",
              "      <td>60.00</td>\n",
              "      <td>50.00</td>\n",
              "      <td>50.00</td>\n",
              "      <td>53.00</td>\n",
              "      <td>30.00</td>\n",
              "      <td>10.50</td>\n",
              "      <td>10.00</td>\n",
              "      <td>10.00</td>\n",
              "      <td>11.00</td>\n",
              "      <td>10.00</td>\n",
              "      <td>10.00</td>\n",
              "      <td>100.00</td>\n",
              "      <td>60.00</td>\n",
              "      <td>50.00</td>\n",
              "      <td>50.00</td>\n",
              "      <td>53.00</td>\n",
              "      <td>30.00</td>\n",
              "      <td>10.00</td>\n",
              "      <td>10.00</td>\n",
              "      <td>10.00</td>\n",
              "      <td>10.00</td>\n",
              "      <td>10.00</td>\n",
              "      <td>10.00</td>\n",
              "      <td>0.91</td>\n",
              "      <td>10.00</td>\n",
              "      <td>20.00</td>\n",
              "      <td>10.00</td>\n",
              "      <td>10.00</td>\n",
              "      <td>8.00</td>\n",
              "      <td>1.00</td>\n",
              "    </tr>\n",
              "  </tbody>\n",
              "</table>\n",
              "</div>\n",
              "      <button class=\"colab-df-convert\" onclick=\"convertToInteractive('df-2141dd06-bea8-48ec-9f47-1cf7aaad9f2c')\"\n",
              "              title=\"Convert this dataframe to an interactive table.\"\n",
              "              style=\"display:none;\">\n",
              "        \n",
              "  <svg xmlns=\"http://www.w3.org/2000/svg\" height=\"24px\"viewBox=\"0 0 24 24\"\n",
              "       width=\"24px\">\n",
              "    <path d=\"M0 0h24v24H0V0z\" fill=\"none\"/>\n",
              "    <path d=\"M18.56 5.44l.94 2.06.94-2.06 2.06-.94-2.06-.94-.94-2.06-.94 2.06-2.06.94zm-11 1L8.5 8.5l.94-2.06 2.06-.94-2.06-.94L8.5 2.5l-.94 2.06-2.06.94zm10 10l.94 2.06.94-2.06 2.06-.94-2.06-.94-.94-2.06-.94 2.06-2.06.94z\"/><path d=\"M17.41 7.96l-1.37-1.37c-.4-.4-.92-.59-1.43-.59-.52 0-1.04.2-1.43.59L10.3 9.45l-7.72 7.72c-.78.78-.78 2.05 0 2.83L4 21.41c.39.39.9.59 1.41.59.51 0 1.02-.2 1.41-.59l7.78-7.78 2.81-2.81c.8-.78.8-2.07 0-2.86zM5.41 20L4 18.59l7.72-7.72 1.47 1.35L5.41 20z\"/>\n",
              "  </svg>\n",
              "      </button>\n",
              "      \n",
              "  <style>\n",
              "    .colab-df-container {\n",
              "      display:flex;\n",
              "      flex-wrap:wrap;\n",
              "      gap: 12px;\n",
              "    }\n",
              "\n",
              "    .colab-df-convert {\n",
              "      background-color: #E8F0FE;\n",
              "      border: none;\n",
              "      border-radius: 50%;\n",
              "      cursor: pointer;\n",
              "      display: none;\n",
              "      fill: #1967D2;\n",
              "      height: 32px;\n",
              "      padding: 0 0 0 0;\n",
              "      width: 32px;\n",
              "    }\n",
              "\n",
              "    .colab-df-convert:hover {\n",
              "      background-color: #E2EBFA;\n",
              "      box-shadow: 0px 1px 2px rgba(60, 64, 67, 0.3), 0px 1px 3px 1px rgba(60, 64, 67, 0.15);\n",
              "      fill: #174EA6;\n",
              "    }\n",
              "\n",
              "    [theme=dark] .colab-df-convert {\n",
              "      background-color: #3B4455;\n",
              "      fill: #D2E3FC;\n",
              "    }\n",
              "\n",
              "    [theme=dark] .colab-df-convert:hover {\n",
              "      background-color: #434B5C;\n",
              "      box-shadow: 0px 1px 3px 1px rgba(0, 0, 0, 0.15);\n",
              "      filter: drop-shadow(0px 1px 2px rgba(0, 0, 0, 0.3));\n",
              "      fill: #FFFFFF;\n",
              "    }\n",
              "  </style>\n",
              "\n",
              "      <script>\n",
              "        const buttonEl =\n",
              "          document.querySelector('#df-2141dd06-bea8-48ec-9f47-1cf7aaad9f2c button.colab-df-convert');\n",
              "        buttonEl.style.display =\n",
              "          google.colab.kernel.accessAllowed ? 'block' : 'none';\n",
              "\n",
              "        async function convertToInteractive(key) {\n",
              "          const element = document.querySelector('#df-2141dd06-bea8-48ec-9f47-1cf7aaad9f2c');\n",
              "          const dataTable =\n",
              "            await google.colab.kernel.invokeFunction('convertToInteractive',\n",
              "                                                     [key], {});\n",
              "          if (!dataTable) return;\n",
              "\n",
              "          const docLinkHtml = 'Like what you see? Visit the ' +\n",
              "            '<a target=\"_blank\" href=https://colab.research.google.com/notebooks/data_table.ipynb>data table notebook</a>'\n",
              "            + ' to learn more about interactive tables.';\n",
              "          element.innerHTML = '';\n",
              "          dataTable['output_type'] = 'display_data';\n",
              "          await google.colab.output.renderOutput(dataTable, element);\n",
              "          const docLink = document.createElement('div');\n",
              "          docLink.innerHTML = docLinkHtml;\n",
              "          element.appendChild(docLink);\n",
              "        }\n",
              "      </script>\n",
              "    </div>\n",
              "  </div>\n",
              "  "
            ]
          },
          "metadata": {},
          "execution_count": 5
        }
      ],
      "source": [
        "round(data.describe(), 2)"
      ]
    },
    {
      "cell_type": "markdown",
      "metadata": {
        "id": "-uWSTM6tEjXO"
      },
      "source": [
        "## 10.3 전처리 : 결측치 처리"
      ]
    },
    {
      "cell_type": "code",
      "execution_count": null,
      "metadata": {
        "colab": {
          "base_uri": "https://localhost:8080/"
        },
        "id": "chOmF-TAEgkd",
        "outputId": "37b9d168-01c4-4a25-f84e-12a279312ba4"
      },
      "outputs": [
        {
          "output_type": "execute_result",
          "data": {
            "text/plain": [
              "has_null                         0.000000\n",
              "gender                           0.000000\n",
              "age                              0.011339\n",
              "age_o                            0.012413\n",
              "race                             0.007520\n",
              "race_o                           0.008713\n",
              "importance_same_race             0.009429\n",
              "importance_same_religion         0.009429\n",
              "pref_o_attractive                0.010623\n",
              "pref_o_sincere                   0.010623\n",
              "pref_o_intelligence              0.010623\n",
              "pref_o_funny                     0.011697\n",
              "pref_o_ambitious                 0.012772\n",
              "pref_o_shared_interests          0.015397\n",
              "attractive_o                     0.025304\n",
              "sincere_o                        0.034256\n",
              "intelligence_o                   0.036524\n",
              "funny_o                          0.042970\n",
              "ambitous_o                       0.086178\n",
              "shared_interests_o               0.128432\n",
              "attractive_important             0.009429\n",
              "sincere_important                0.009429\n",
              "intellicence_important           0.009429\n",
              "funny_important                  0.010623\n",
              "ambtition_important              0.011817\n",
              "shared_interests_important       0.014443\n",
              "attractive_partner               0.024111\n",
              "sincere_partner                  0.033063\n",
              "intelligence_partner             0.035331\n",
              "funny_partner                    0.041776\n",
              "ambition_partner                 0.084984\n",
              "shared_interests_partner         0.127357\n",
              "interests_correlate              0.018859\n",
              "expected_happy_with_sd_people    0.012055\n",
              "expected_num_interested_in_me    0.785152\n",
              "like                             0.028646\n",
              "guess_prob_liked                 0.036882\n",
              "met                              0.044760\n",
              "match                            0.000000\n",
              "dtype: float64"
            ]
          },
          "metadata": {},
          "execution_count": 6
        }
      ],
      "source": [
        "data.isna().mean()"
      ]
    },
    {
      "cell_type": "code",
      "execution_count": null,
      "metadata": {
        "id": "_FqjLpM0Ekwt"
      },
      "outputs": [],
      "source": [
        "data = data.dropna(subset=['pref_o_attractive', 'pref_o_sincere', 'pref_o_intelligence', 'pref_o_funny', 'pref_o_ambitious', 'pref_o_shared_interests','attractive_important', 'sincere_important', 'intellicence_important', 'funny_important', 'ambtition_important', 'shared_interests_important'])"
      ]
    },
    {
      "cell_type": "code",
      "execution_count": null,
      "metadata": {
        "id": "ZsmbI8oxEmi1"
      },
      "outputs": [],
      "source": [
        "data = data.fillna(-99)"
      ]
    },
    {
      "cell_type": "markdown",
      "metadata": {
        "id": "7aUXEFbdEnN1"
      },
      "source": [
        "## 10.4 전처리 : 피처 엔지니어링"
      ]
    },
    {
      "cell_type": "code",
      "execution_count": null,
      "metadata": {
        "id": "iNGLmfDQEpnt"
      },
      "outputs": [],
      "source": [
        "def age_gap(x):\n",
        "    if x['age'] == -99:\n",
        "        return -99\n",
        "    elif x['age_o'] == -99:\n",
        "        return -99\n",
        "    elif x['gender'] == 'female':\n",
        "        return x['age_o'] - x['age']\n",
        "    else:\n",
        "        return x['age'] - x['age_o']"
      ]
    },
    {
      "cell_type": "code",
      "execution_count": null,
      "metadata": {
        "id": "OvZCdcYnEqpl"
      },
      "outputs": [],
      "source": [
        "data['age_gap'] = data.apply(age_gap, axis=1)"
      ]
    },
    {
      "cell_type": "code",
      "execution_count": null,
      "metadata": {
        "id": "Me1vyUt4ErjV"
      },
      "outputs": [],
      "source": [
        "data['age_gap_abs'] = abs(data['age_gap'])"
      ]
    },
    {
      "cell_type": "code",
      "execution_count": null,
      "metadata": {
        "id": "SjWRQU4eEsN1"
      },
      "outputs": [],
      "source": [
        "def same_race(x):\n",
        "    if x['race'] == -99:\n",
        "        return -99\n",
        "    elif x['race_o'] == -99:\n",
        "        return -99\n",
        "    elif x['race'] == x['race_o']:\n",
        "        return 1\n",
        "    else:\n",
        "        return -1     "
      ]
    },
    {
      "cell_type": "code",
      "execution_count": null,
      "metadata": {
        "id": "cvTb0jdXEtZP"
      },
      "outputs": [],
      "source": [
        "data['same_race'] = data.apply(same_race, axis=1)"
      ]
    },
    {
      "cell_type": "code",
      "execution_count": null,
      "metadata": {
        "id": "m-XIMrgPEucW"
      },
      "outputs": [],
      "source": [
        "def same_race_point(x):\n",
        "    if x['same_race'] == -99:\n",
        "        return -99\n",
        "    else:\n",
        "        return x['same_race'] * x['importance_same_race']"
      ]
    },
    {
      "cell_type": "code",
      "execution_count": null,
      "metadata": {
        "id": "Vl_VUYd9EvXG"
      },
      "outputs": [],
      "source": [
        "data['same_race_point'] = data.apply(same_race_point, axis=1)"
      ]
    },
    {
      "cell_type": "code",
      "execution_count": null,
      "metadata": {
        "id": "9Z535P1QEwL3"
      },
      "outputs": [],
      "source": [
        "def rating(data, importance, score):\n",
        "    if data[importance] == -99:\n",
        "        return -99\n",
        "    elif data[score] == -99:\n",
        "        return -99\n",
        "    else:\n",
        "        return data[importance] * data[score]"
      ]
    },
    {
      "cell_type": "code",
      "execution_count": null,
      "metadata": {
        "colab": {
          "base_uri": "https://localhost:8080/"
        },
        "id": "YVuk0b_XEx3u",
        "outputId": "3f10e959-1857-49c0-d96f-02e5b215aee4"
      },
      "outputs": [
        {
          "output_type": "execute_result",
          "data": {
            "text/plain": [
              "Index(['pref_o_attractive', 'pref_o_sincere', 'pref_o_intelligence',\n",
              "       'pref_o_funny', 'pref_o_ambitious', 'pref_o_shared_interests'],\n",
              "      dtype='object')"
            ]
          },
          "metadata": {},
          "execution_count": 18
        }
      ],
      "source": [
        "data.columns[8:14]"
      ]
    },
    {
      "cell_type": "code",
      "execution_count": null,
      "metadata": {
        "id": "oHe6ZhKMEy4f"
      },
      "outputs": [],
      "source": [
        "partner_imp = data.columns[8:14]      # 상대방의 중요도\n",
        "partner_rate_me = data.columns[14:20] # 본인에 대한 상대방의 평가\n",
        "my_imp = data.columns[20:26]          # 본인의 중요도\n",
        "my_rate_partner = data.columns[26:32] # 상대방에 대한 본인의 평가"
      ]
    },
    {
      "cell_type": "code",
      "execution_count": null,
      "metadata": {
        "id": "mTK7M30NEz63"
      },
      "outputs": [],
      "source": [
        "new_label_partner = ['attractive_p', 'sincere_partner_p', 'intelligence_p', 'funny_p', 'ambition_p', 'shared_interests_p']\n",
        "\n",
        "new_label_me = ['attractive_m', 'sincere_partner_m', 'intelligence_m', 'funny_m', 'ambition_m', 'shared_interests_m']"
      ]
    },
    {
      "cell_type": "code",
      "execution_count": null,
      "metadata": {
        "colab": {
          "base_uri": "https://localhost:8080/"
        },
        "id": "w5MKz59UE0nI",
        "outputId": "8b30d53d-fdb5-4490-d82a-031b9027828f"
      },
      "outputs": [
        {
          "output_type": "stream",
          "name": "stdout",
          "text": [
            "attractive_p  &  pref_o_attractive  &  attractive_o\n",
            "sincere_partner_p  &  pref_o_sincere  &  sincere_o\n",
            "intelligence_p  &  pref_o_intelligence  &  intelligence_o\n",
            "funny_p  &  pref_o_funny  &  funny_o\n",
            "ambition_p  &  pref_o_ambitious  &  ambitous_o\n",
            "shared_interests_p  &  pref_o_shared_interests  &  shared_interests_o\n"
          ]
        }
      ],
      "source": [
        "for i,j,k in zip(new_label_partner, partner_imp, partner_rate_me):\n",
        "    print(i,' & ',j,' & ',k)"
      ]
    },
    {
      "cell_type": "code",
      "execution_count": null,
      "metadata": {
        "id": "mjuWysJZE1nH"
      },
      "outputs": [],
      "source": [
        "for i,j,k in zip(new_label_partner, partner_imp, partner_rate_me):\n",
        "    data[i] = data.apply(lambda x: rating(x, j, k), axis=1) # ❶  "
      ]
    },
    {
      "cell_type": "code",
      "execution_count": null,
      "metadata": {
        "id": "PO6xX4DQE3EP"
      },
      "outputs": [],
      "source": [
        "for i,j,k in zip(new_label_me, my_imp, my_rate_partner):\n",
        "    data[i] = data.apply(lambda x: rating(x, j, k), axis=1)"
      ]
    },
    {
      "cell_type": "code",
      "execution_count": null,
      "metadata": {
        "id": "gXsQdkUtE39X"
      },
      "outputs": [],
      "source": [
        "data = pd.get_dummies(data, columns=['gender','race','race_o'], drop_first=True)"
      ]
    },
    {
      "cell_type": "markdown",
      "metadata": {
        "id": "s098xq6FFBSx"
      },
      "source": [
        "## 10.5 모델링 및 평가"
      ]
    },
    {
      "cell_type": "code",
      "execution_count": null,
      "metadata": {
        "id": "IRMPDBnPE4k_"
      },
      "outputs": [],
      "source": [
        "from sklearn.model_selection import train_test_split\n",
        "X_train, X_test, y_train, y_test = train_test_split(data.drop('match',axis=1), data['match'], test_size=0.2, random_state=100)"
      ]
    },
    {
      "cell_type": "code",
      "execution_count": null,
      "metadata": {
        "id": "afUkAiJ4E6gJ"
      },
      "outputs": [],
      "source": [
        "import xgboost as xgb"
      ]
    },
    {
      "cell_type": "code",
      "execution_count": null,
      "metadata": {
        "id": "WSiCARaGE9J4"
      },
      "outputs": [],
      "source": [
        "model = xgb.XGBClassifier(n_estimators = 500, max_depth = 5, random_state=100)"
      ]
    },
    {
      "cell_type": "code",
      "execution_count": null,
      "metadata": {
        "colab": {
          "base_uri": "https://localhost:8080/"
        },
        "id": "xUEr7WMnFEtC",
        "outputId": "d02ca188-3258-472b-c1ab-44b187c46173"
      },
      "outputs": [
        {
          "output_type": "execute_result",
          "data": {
            "text/plain": [
              "XGBClassifier(max_depth=5, n_estimators=500, random_state=100)"
            ]
          },
          "metadata": {},
          "execution_count": 28
        }
      ],
      "source": [
        "model.fit(X_train, y_train)"
      ]
    },
    {
      "cell_type": "code",
      "execution_count": null,
      "metadata": {
        "colab": {
          "base_uri": "https://localhost:8080/"
        },
        "id": "_GI40BNXFFhx",
        "outputId": "4762630a-653d-45d3-e534-abd26446a90d"
      },
      "outputs": [
        {
          "output_type": "execute_result",
          "data": {
            "text/plain": [
              "0.8677736777367774"
            ]
          },
          "metadata": {},
          "execution_count": 29
        }
      ],
      "source": [
        "pred= model.predict(X_test) # 예측\n",
        "from sklearn.metrics import accuracy_score, confusion_matrix, classification_report\n",
        "accuracy_score(y_test, pred) # 정확도 \n"
      ]
    },
    {
      "cell_type": "code",
      "execution_count": null,
      "metadata": {
        "colab": {
          "base_uri": "https://localhost:8080/"
        },
        "id": "5a0aMyEhFG7B",
        "outputId": "89b1cfd2-b9ea-46a4-8aef-122e85971adb"
      },
      "outputs": [
        {
          "output_type": "stream",
          "name": "stdout",
          "text": [
            "[[1297   68]\n",
            " [ 147  114]]\n"
          ]
        }
      ],
      "source": [
        "print(confusion_matrix(y_test, pred))"
      ]
    },
    {
      "cell_type": "code",
      "execution_count": null,
      "metadata": {
        "colab": {
          "base_uri": "https://localhost:8080/"
        },
        "id": "5eJLz7KlFH0x",
        "outputId": "b04bd83b-b7d9-4cff-97f2-10efa206337c"
      },
      "outputs": [
        {
          "name": "stdout",
          "output_type": "stream",
          "text": [
            "              precision    recall  f1-score   support\n",
            "\n",
            "           0       0.90      0.95      0.92      1365\n",
            "           1       0.63      0.44      0.51       261\n",
            "\n",
            "    accuracy                           0.87      1626\n",
            "   macro avg       0.76      0.69      0.72      1626\n",
            "weighted avg       0.85      0.87      0.86      1626\n",
            "\n"
          ]
        }
      ],
      "source": [
        "print(classification_report(y_test, pred))"
      ]
    },
    {
      "cell_type": "markdown",
      "metadata": {
        "id": "bX2gO8SoFI4y"
      },
      "source": [
        "## 10.7 하이퍼 파라미터 튜닝 : 그리드 서치"
      ]
    },
    {
      "cell_type": "code",
      "execution_count": null,
      "metadata": {
        "id": "dH5l6suuFTin"
      },
      "outputs": [],
      "source": [
        "from sklearn.model_selection import GridSearchCV"
      ]
    },
    {
      "cell_type": "code",
      "execution_count": null,
      "metadata": {
        "id": "up9yEQopFUtc"
      },
      "outputs": [],
      "source": [
        "parameters = {\n",
        "              'learning_rate': [0.01, 0.1, 0.3],\n",
        "              'max_depth': [5,7,10],\n",
        "              'subsample': [0.5,0.7,1],                 \n",
        "              'n_estimators': [300, 500, 1000]\n",
        "                }"
      ]
    },
    {
      "cell_type": "code",
      "execution_count": null,
      "metadata": {
        "id": "VQ-WorycFVdE"
      },
      "outputs": [],
      "source": [
        "model = xgb.XGBClassifier()"
      ]
    },
    {
      "cell_type": "code",
      "execution_count": null,
      "metadata": {
        "id": "uzJd3IxaFWmc"
      },
      "outputs": [],
      "source": [
        "gs_model = GridSearchCV(model, parameters, n_jobs=-1, scoring='f1', cv = 5)"
      ]
    },
    {
      "cell_type": "code",
      "execution_count": null,
      "metadata": {
        "colab": {
          "background_save": true
        },
        "id": "Y467z-o0FXXW",
        "outputId": "67d165a0-9820-4b88-be3f-16fa3b9a1b7c"
      },
      "outputs": [
        {
          "data": {
            "text/plain": [
              "GridSearchCV(cv=5, estimator=XGBClassifier(), n_jobs=-1,\n",
              "             param_grid={'learning_rate': [0.01, 0.1, 0.3],\n",
              "                         'max_depth': [5, 7, 10],\n",
              "                         'n_estimators': [300, 500, 1000],\n",
              "                         'subsample': [0.5, 0.7, 1]},\n",
              "             scoring='f1')"
            ]
          },
          "execution_count": null,
          "metadata": {},
          "output_type": "execute_result"
        }
      ],
      "source": [
        "gs_model.fit(X_train, y_train)"
      ]
    },
    {
      "cell_type": "code",
      "execution_count": null,
      "metadata": {
        "colab": {
          "background_save": true
        },
        "id": "EeZn2vVSFYGc",
        "outputId": "b4f63df5-9d88-46dc-87f9-383a068dd0bc"
      },
      "outputs": [
        {
          "data": {
            "text/plain": [
              "{'learning_rate': 0.3, 'max_depth': 5, 'n_estimators': 1000, 'subsample': 0.5}"
            ]
          },
          "execution_count": null,
          "metadata": {},
          "output_type": "execute_result"
        }
      ],
      "source": [
        "gs_model.best_params_"
      ]
    },
    {
      "cell_type": "code",
      "execution_count": null,
      "metadata": {
        "colab": {
          "background_save": true
        },
        "id": "pc9mxDtuFZoE"
      },
      "outputs": [],
      "source": [
        "pred = gs_model.predict(X_test)"
      ]
    },
    {
      "cell_type": "code",
      "execution_count": null,
      "metadata": {
        "colab": {
          "background_save": true
        },
        "id": "A26uVeEXFa59",
        "outputId": "56a21815-2cff-4dfa-aa29-5a6e3f610055"
      },
      "outputs": [
        {
          "data": {
            "text/plain": [
              "0.8634686346863468"
            ]
          },
          "execution_count": null,
          "metadata": {},
          "output_type": "execute_result"
        }
      ],
      "source": [
        "accuracy_score(y_test, pred)"
      ]
    },
    {
      "cell_type": "code",
      "execution_count": null,
      "metadata": {
        "colab": {
          "background_save": true
        },
        "id": "aHY9ztr8Fb5E",
        "outputId": "5b2509c9-18a0-4120-b165-2edc017b9a13"
      },
      "outputs": [
        {
          "name": "stdout",
          "output_type": "stream",
          "text": [
            "              precision    recall  f1-score   support\n",
            "\n",
            "           0       0.90      0.95      0.92      1365\n",
            "           1       0.60      0.44      0.51       261\n",
            "\n",
            "    accuracy                           0.86      1626\n",
            "   macro avg       0.75      0.69      0.71      1626\n",
            "weighted avg       0.85      0.86      0.85      1626\n",
            "\n"
          ]
        }
      ],
      "source": [
        "print(classification_report(y_test, pred))"
      ]
    },
    {
      "cell_type": "markdown",
      "metadata": {
        "id": "l_RxM12VFc18"
      },
      "source": [
        "## 10.8 중요 변수 확인 (Feature Importance)"
      ]
    },
    {
      "cell_type": "code",
      "execution_count": null,
      "metadata": {
        "colab": {
          "background_save": true
        },
        "id": "2W0EtDmAFfWl",
        "outputId": "cdcb37c8-96c2-43ad-8883-f41678b64f7c"
      },
      "outputs": [
        {
          "data": {
            "text/plain": [
              "XGBClassifier(learning_rate=0.3, max_depth=5, n_estimators=1000,\n",
              "              random_state=100, subsample=0.5)"
            ]
          },
          "execution_count": null,
          "metadata": {},
          "output_type": "execute_result"
        }
      ],
      "source": [
        "model = xgb.XGBClassifier(learning_rate = 0.3, max_depth = 5, n_estimators = 1000, subsample = 0.5, random_state=100)\n",
        "\n",
        "model.fit(X_train, y_train)\n"
      ]
    },
    {
      "cell_type": "code",
      "execution_count": null,
      "metadata": {
        "colab": {
          "background_save": true
        },
        "id": "d9QtaEUfFlKl",
        "outputId": "c58a7b82-4f45-4c42-82c4-5bd6fb59aabe"
      },
      "outputs": [
        {
          "data": {
            "text/plain": [
              "array([0.02178124, 0.01137641, 0.00998134, 0.00984809, 0.01060789,\n",
              "       0.01359383, 0.0106577 , 0.01713987, 0.01186323, 0.01206678,\n",
              "       0.01331671, 0.04854794, 0.01233604, 0.01430371, 0.02732427,\n",
              "       0.01440852, 0.02333122, 0.01437325, 0.01104852, 0.01472255,\n",
              "       0.00973702, 0.01481564, 0.01001215, 0.02409386, 0.01538233,\n",
              "       0.01472   , 0.02749152, 0.01478216, 0.01670051, 0.01100919,\n",
              "       0.0106856 , 0.02170104, 0.04928581, 0.01951623, 0.03824322,\n",
              "       0.01167234, 0.01354654, 0.01223037, 0.01456301, 0.0113123 ,\n",
              "       0.01188447, 0.0129804 , 0.01511254, 0.01037562, 0.01001647,\n",
              "       0.01314106, 0.01188815, 0.01242249, 0.01119814, 0.01119024,\n",
              "       0.01165821, 0.00895496, 0.01707342, 0.01282681, 0.03765631,\n",
              "       0.02832991, 0.03117039, 0.01136704, 0.02328539, 0.0133381 ],\n",
              "      dtype=float32)"
            ]
          },
          "execution_count": null,
          "metadata": {},
          "output_type": "execute_result"
        }
      ],
      "source": [
        "model.feature_importances_"
      ]
    },
    {
      "cell_type": "code",
      "execution_count": null,
      "metadata": {
        "colab": {
          "background_save": true
        },
        "id": "e1o530AnFmQV"
      },
      "outputs": [],
      "source": [
        "feature_imp = pd.DataFrame({'features': X_train.columns, 'values': model.feature_importances_})"
      ]
    },
    {
      "cell_type": "code",
      "execution_count": null,
      "metadata": {
        "colab": {
          "background_save": true
        },
        "id": "x5FxEOcKFnKe",
        "outputId": "70ff10bd-8475-478b-b15c-683f3ece45d8"
      },
      "outputs": [
        {
          "data": {
            "text/html": [
              "\n",
              "  <div id=\"df-b464d75e-727a-4f3d-9ed6-ffddbbbc6a48\">\n",
              "    <div class=\"colab-df-container\">\n",
              "      <div>\n",
              "<style scoped>\n",
              "    .dataframe tbody tr th:only-of-type {\n",
              "        vertical-align: middle;\n",
              "    }\n",
              "\n",
              "    .dataframe tbody tr th {\n",
              "        vertical-align: top;\n",
              "    }\n",
              "\n",
              "    .dataframe thead th {\n",
              "        text-align: right;\n",
              "    }\n",
              "</style>\n",
              "<table border=\"1\" class=\"dataframe\">\n",
              "  <thead>\n",
              "    <tr style=\"text-align: right;\">\n",
              "      <th></th>\n",
              "      <th>features</th>\n",
              "      <th>values</th>\n",
              "    </tr>\n",
              "  </thead>\n",
              "  <tbody>\n",
              "    <tr>\n",
              "      <th>0</th>\n",
              "      <td>has_null</td>\n",
              "      <td>0.021781</td>\n",
              "    </tr>\n",
              "    <tr>\n",
              "      <th>1</th>\n",
              "      <td>age</td>\n",
              "      <td>0.011376</td>\n",
              "    </tr>\n",
              "    <tr>\n",
              "      <th>2</th>\n",
              "      <td>age_o</td>\n",
              "      <td>0.009981</td>\n",
              "    </tr>\n",
              "    <tr>\n",
              "      <th>3</th>\n",
              "      <td>importance_same_race</td>\n",
              "      <td>0.009848</td>\n",
              "    </tr>\n",
              "    <tr>\n",
              "      <th>4</th>\n",
              "      <td>importance_same_religion</td>\n",
              "      <td>0.010608</td>\n",
              "    </tr>\n",
              "  </tbody>\n",
              "</table>\n",
              "</div>\n",
              "      <button class=\"colab-df-convert\" onclick=\"convertToInteractive('df-b464d75e-727a-4f3d-9ed6-ffddbbbc6a48')\"\n",
              "              title=\"Convert this dataframe to an interactive table.\"\n",
              "              style=\"display:none;\">\n",
              "        \n",
              "  <svg xmlns=\"http://www.w3.org/2000/svg\" height=\"24px\"viewBox=\"0 0 24 24\"\n",
              "       width=\"24px\">\n",
              "    <path d=\"M0 0h24v24H0V0z\" fill=\"none\"/>\n",
              "    <path d=\"M18.56 5.44l.94 2.06.94-2.06 2.06-.94-2.06-.94-.94-2.06-.94 2.06-2.06.94zm-11 1L8.5 8.5l.94-2.06 2.06-.94-2.06-.94L8.5 2.5l-.94 2.06-2.06.94zm10 10l.94 2.06.94-2.06 2.06-.94-2.06-.94-.94-2.06-.94 2.06-2.06.94z\"/><path d=\"M17.41 7.96l-1.37-1.37c-.4-.4-.92-.59-1.43-.59-.52 0-1.04.2-1.43.59L10.3 9.45l-7.72 7.72c-.78.78-.78 2.05 0 2.83L4 21.41c.39.39.9.59 1.41.59.51 0 1.02-.2 1.41-.59l7.78-7.78 2.81-2.81c.8-.78.8-2.07 0-2.86zM5.41 20L4 18.59l7.72-7.72 1.47 1.35L5.41 20z\"/>\n",
              "  </svg>\n",
              "      </button>\n",
              "      \n",
              "  <style>\n",
              "    .colab-df-container {\n",
              "      display:flex;\n",
              "      flex-wrap:wrap;\n",
              "      gap: 12px;\n",
              "    }\n",
              "\n",
              "    .colab-df-convert {\n",
              "      background-color: #E8F0FE;\n",
              "      border: none;\n",
              "      border-radius: 50%;\n",
              "      cursor: pointer;\n",
              "      display: none;\n",
              "      fill: #1967D2;\n",
              "      height: 32px;\n",
              "      padding: 0 0 0 0;\n",
              "      width: 32px;\n",
              "    }\n",
              "\n",
              "    .colab-df-convert:hover {\n",
              "      background-color: #E2EBFA;\n",
              "      box-shadow: 0px 1px 2px rgba(60, 64, 67, 0.3), 0px 1px 3px 1px rgba(60, 64, 67, 0.15);\n",
              "      fill: #174EA6;\n",
              "    }\n",
              "\n",
              "    [theme=dark] .colab-df-convert {\n",
              "      background-color: #3B4455;\n",
              "      fill: #D2E3FC;\n",
              "    }\n",
              "\n",
              "    [theme=dark] .colab-df-convert:hover {\n",
              "      background-color: #434B5C;\n",
              "      box-shadow: 0px 1px 3px 1px rgba(0, 0, 0, 0.15);\n",
              "      filter: drop-shadow(0px 1px 2px rgba(0, 0, 0, 0.3));\n",
              "      fill: #FFFFFF;\n",
              "    }\n",
              "  </style>\n",
              "\n",
              "      <script>\n",
              "        const buttonEl =\n",
              "          document.querySelector('#df-b464d75e-727a-4f3d-9ed6-ffddbbbc6a48 button.colab-df-convert');\n",
              "        buttonEl.style.display =\n",
              "          google.colab.kernel.accessAllowed ? 'block' : 'none';\n",
              "\n",
              "        async function convertToInteractive(key) {\n",
              "          const element = document.querySelector('#df-b464d75e-727a-4f3d-9ed6-ffddbbbc6a48');\n",
              "          const dataTable =\n",
              "            await google.colab.kernel.invokeFunction('convertToInteractive',\n",
              "                                                     [key], {});\n",
              "          if (!dataTable) return;\n",
              "\n",
              "          const docLinkHtml = 'Like what you see? Visit the ' +\n",
              "            '<a target=\"_blank\" href=https://colab.research.google.com/notebooks/data_table.ipynb>data table notebook</a>'\n",
              "            + ' to learn more about interactive tables.';\n",
              "          element.innerHTML = '';\n",
              "          dataTable['output_type'] = 'display_data';\n",
              "          await google.colab.output.renderOutput(dataTable, element);\n",
              "          const docLink = document.createElement('div');\n",
              "          docLink.innerHTML = docLinkHtml;\n",
              "          element.appendChild(docLink);\n",
              "        }\n",
              "      </script>\n",
              "    </div>\n",
              "  </div>\n",
              "  "
            ],
            "text/plain": [
              "                   features    values\n",
              "0                  has_null  0.021781\n",
              "1                       age  0.011376\n",
              "2                     age_o  0.009981\n",
              "3      importance_same_race  0.009848\n",
              "4  importance_same_religion  0.010608"
            ]
          },
          "execution_count": null,
          "metadata": {},
          "output_type": "execute_result"
        }
      ],
      "source": [
        "feature_imp.head()"
      ]
    },
    {
      "cell_type": "code",
      "execution_count": null,
      "metadata": {
        "colab": {
          "background_save": true
        },
        "id": "38YnniFxFn8W",
        "outputId": "754658e9-dd56-44bb-9a5f-6e1bb45c2f4e"
      },
      "outputs": [
        {
          "data": {
            "text/plain": [
              "<matplotlib.axes._subplots.AxesSubplot at 0x7efed0bdd590>"
            ]
          },
          "execution_count": null,
          "metadata": {},
          "output_type": "execute_result"
        },
        {
          "data": {
            "image/png": "[encoded data removed]",
            "text/plain": [
              "<Figure size 1440x720 with 1 Axes>"
            ]
          },
          "metadata": {},
          "output_type": "display_data"
        }
      ],
      "source": [
        "plt.figure(figsize=(20, 10)) # 그래프 크기 설정\n",
        "sns.barplot(x='values', y='features', # ❶\n",
        "data=feature_imp.sort_values(by='values', ascending=False).head(10)) # ❷"
      ]
    }
  ],
  "metadata": {
    "colab": {
      "name": "10_XGBoost.ipynb",
      "provenance": []
    },
    "kernelspec": {
      "display_name": "Python 3",
      "name": "python3"
    },
    "language_info": {
      "name": "python"
    }
  },
  "nbformat": 4,
  "nbformat_minor": 0
}